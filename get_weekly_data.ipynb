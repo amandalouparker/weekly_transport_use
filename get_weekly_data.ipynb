{
 "cells": [
  {
   "cell_type": "code",
   "execution_count": 1,
   "metadata": {
    "collapsed": true
   },
   "outputs": [],
   "source": [
    "# script to format opal data into the tsv file weekly format\n",
    "import pandas as pd\n",
    "import numpy as np\n",
    "from sklearn import preprocessing"
   ]
  },
  {
   "cell_type": "code",
   "execution_count": 2,
   "metadata": {
    "collapsed": true
   },
   "outputs": [],
   "source": [
    "# Format\n",
    "# Col 1 = 'day' range 1-7\n",
    "# Col 2 'hour' range 1-24\n",
    "# Col 3 'value' 0-100?"
   ]
  },
  {
   "cell_type": "code",
   "execution_count": 4,
   "metadata": {
    "collapsed": false
   },
   "outputs": [],
   "source": [
    "df = pd.read_csv('data/time_20160725-31.csv',parse_dates=['date','time'])\n",
    "#df = df[df.tap=='on'].copy()"
   ]
  },
  {
   "cell_type": "code",
   "execution_count": 7,
   "metadata": {
    "collapsed": true
   },
   "outputs": [],
   "source": [
    "# Col 1 = 'day' range 1-7\n",
    "df_dates = df['date'].copy()\n",
    "df_dates_1 = df_dates.dt.strftime('%Y-%m-%d')\n",
    "df_dates_2 = df_dates_1.copy()\n",
    "df['day'] = df_dates_2.replace(['2016-07-25', '2016-07-26', \n",
    "                    '2016-07-27', '2016-07-28', \n",
    "                    '2016-07-29', '2016-07-30', \n",
    "                    '2016-07-31'],[1, 2, 3, 4, 5, 6, 7]) "
   ]
  },
  {
   "cell_type": "code",
   "execution_count": 8,
   "metadata": {
    "collapsed": false
   },
   "outputs": [
    {
     "name": "stderr",
     "output_type": "stream",
     "text": [
      "/Users/amandaparker/anaconda/lib/python2.7/site-packages/ipykernel/__main__.py:6: SettingWithCopyWarning: \n",
      "A value is trying to be set on a copy of a slice from a DataFrame\n",
      "\n",
      "See the caveats in the documentation: http://pandas.pydata.org/pandas-docs/stable/indexing.html#indexing-view-versus-copy\n"
     ]
    }
   ],
   "source": [
    "# Col 2 'hour' range 1-24\n",
    "df['hour'] = df['time'].copy()\n",
    " # add numbers for the hour\n",
    "df_hours = df['time'].copy()\n",
    "for h in range(0,len(df_hours)):\n",
    "    df.hour[h] = df_hours[h][0]+df_hours[h][1]"
   ]
  },
  {
   "cell_type": "code",
   "execution_count": 9,
   "metadata": {
    "collapsed": false
   },
   "outputs": [],
   "source": [
    "# Col 3 'value' 0-100?\n",
    "df = df.fillna(value=0).copy()"
   ]
  },
  {
   "cell_type": "code",
   "execution_count": 10,
   "metadata": {
    "collapsed": false
   },
   "outputs": [
    {
     "name": "stderr",
     "output_type": "stream",
     "text": [
      "/Users/amandaparker/anaconda/lib/python2.7/site-packages/sklearn/preprocessing/data.py:321: DeprecationWarning: Passing 1d arrays as data is deprecated in 0.17 and will raise ValueError in 0.19. Reshape your data either using X.reshape(-1, 1) if your data has a single feature or X.reshape(1, -1) if it contains a single sample.\n",
      "  warnings.warn(DEPRECATION_MSG_1D, DeprecationWarning)\n",
      "/Users/amandaparker/anaconda/lib/python2.7/site-packages/sklearn/preprocessing/data.py:356: DeprecationWarning: Passing 1d arrays as data is deprecated in 0.17 and will raise ValueError in 0.19. Reshape your data either using X.reshape(-1, 1) if your data has a single feature or X.reshape(1, -1) if it contains a single sample.\n",
      "  warnings.warn(DEPRECATION_MSG_1D, DeprecationWarning)\n"
     ]
    }
   ],
   "source": [
    "min_max_scaler = preprocessing.MinMaxScaler()\n",
    "val_scaled = min_max_scaler.fit_transform(df['count'])\n",
    "val_normalized = pd.DataFrame(val_scaled)\n",
    "df['value'] =  val_normalized*100"
   ]
  },
  {
   "cell_type": "code",
   "execution_count": 11,
   "metadata": {
    "collapsed": true
   },
   "outputs": [],
   "source": [
    "# drop hour = 0\n",
    "df_c = df[df['hour']!='-1']"
   ]
  },
  {
   "cell_type": "code",
   "execution_count": 12,
   "metadata": {
    "collapsed": false
   },
   "outputs": [],
   "source": [
    "# Strip data down to day, hour, value and mode\n",
    "new = df_c[['day', 'hour', 'value', 'mode']].copy()"
   ]
  },
  {
   "cell_type": "code",
   "execution_count": 13,
   "metadata": {
    "collapsed": false
   },
   "outputs": [],
   "source": [
    "df_bus = new[new['mode']=='bus'].reindex(index=None).copy()\n",
    "df_train = new[new['mode']=='train'].reindex(index=None).copy()\n",
    "df_ferry = new[new['mode']=='ferry'].reindex(index=None).copy()\n",
    "df_lightrail = new[new['mode']=='lightrail'].reindex(index=None).copy()"
   ]
  },
  {
   "cell_type": "code",
   "execution_count": 14,
   "metadata": {
    "collapsed": true
   },
   "outputs": [],
   "source": [
    "bus = df_bus[['day', 'hour', 'value']].copy()\n",
    "train = df_train[['day', 'hour', 'value']].copy()\n",
    "ferry = df_ferry[['day', 'hour', 'value']].copy()\n",
    "lightrail = df_lightrail[['day', 'hour', 'value']].copy()"
   ]
  },
  {
   "cell_type": "code",
   "execution_count": 15,
   "metadata": {
    "collapsed": false
   },
   "outputs": [],
   "source": [
    "bus['hour'] = pd.to_numeric(bus['hour'])+1\n",
    "train['hour'] = pd.to_numeric(train['hour'])+1\n",
    "ferry['hour'] = pd.to_numeric(ferry['hour'])+1\n",
    "lightrail['hour'] = pd.to_numeric(lightrail['hour'])+1"
   ]
  },
  {
   "cell_type": "code",
   "execution_count": 16,
   "metadata": {
    "collapsed": false
   },
   "outputs": [],
   "source": [
    "new_bus = bus.groupby(['day','hour'], as_index=False).sum()\n",
    "new_train = train.groupby(['day','hour'], as_index=False).sum()\n",
    "new_ferry = ferry.groupby(['day','hour'], as_index=False).sum()\n",
    "new_lightrail = lightrail.groupby(['day','hour'], as_index=False).sum()"
   ]
  },
  {
   "cell_type": "code",
   "execution_count": 17,
   "metadata": {
    "collapsed": false
   },
   "outputs": [],
   "source": [
    "data = pd.read_csv('data/data.tsv', sep='\t')"
   ]
  },
  {
   "cell_type": "code",
   "execution_count": 18,
   "metadata": {
    "collapsed": true
   },
   "outputs": [],
   "source": [
    "tmpl = data[['day', 'hour']].copy()"
   ]
  },
  {
   "cell_type": "code",
   "execution_count": 20,
   "metadata": {
    "collapsed": false
   },
   "outputs": [],
   "source": [
    "m_bus = pd.merge(tmpl, new_bus, how='left', on=['day', 'hour'])\n",
    "m_train = pd.merge(tmpl, new_train, how='left', on=['day', 'hour'])\n",
    "m_ferry = pd.merge(tmpl, new_ferry, how='left', on=['day', 'hour'])\n",
    "m_lightrail = pd.merge(tmpl, new_lightrail, how='left', on=['day', 'hour'])"
   ]
  },
  {
   "cell_type": "code",
   "execution_count": 22,
   "metadata": {
    "collapsed": false
   },
   "outputs": [],
   "source": [
    "f_bus = m_bus.fillna(value=0).copy()\n",
    "f_train = m_train.fillna(value=0).copy()\n",
    "f_ferry = m_ferry.fillna(value=0).copy()\n",
    "f_lightrail = m_lightrail.fillna(value=0).copy()"
   ]
  },
  {
   "cell_type": "code",
   "execution_count": 23,
   "metadata": {
    "collapsed": false
   },
   "outputs": [],
   "source": [
    "# save to files"
   ]
  },
  {
   "cell_type": "code",
   "execution_count": 24,
   "metadata": {
    "collapsed": false
   },
   "outputs": [],
   "source": [
    "f_bus.to_csv('data/opal_bus.tsv',sep='\t',index=False)\n",
    "f_train.to_csv('data/opal_train.tsv',sep='\t',index=False)\n",
    "f_ferry.to_csv('data/opal_ferry.tsv',sep='\t',index=False)\n",
    "f_lightrail.to_csv('data/opal_lightrail.tsv',sep='\t',index=False)"
   ]
  }
 ],
 "metadata": {
  "kernelspec": {
   "display_name": "Python 2",
   "language": "python",
   "name": "python2"
  },
  "language_info": {
   "codemirror_mode": {
    "name": "ipython",
    "version": 2
   },
   "file_extension": ".py",
   "mimetype": "text/x-python",
   "name": "python",
   "nbconvert_exporter": "python",
   "pygments_lexer": "ipython2",
   "version": "2.7.13"
  }
 },
 "nbformat": 4,
 "nbformat_minor": 2
}
